{
  "metadata": {
    "kernelspec": {
      "language": "python",
      "display_name": "Python 3",
      "name": "python3"
    },
    "language_info": {
      "name": "python",
      "version": "3.10.14",
      "mimetype": "text/x-python",
      "codemirror_mode": {
        "name": "ipython",
        "version": 3
      },
      "pygments_lexer": "ipython3",
      "nbconvert_exporter": "python",
      "file_extension": ".py"
    },
    "kaggle": {
      "accelerator": "none",
      "dataSources": [
        {
          "sourceId": 84511,
          "databundleVersionId": 9468663,
          "sourceType": "competition"
        }
      ],
      "dockerImageVersionId": 30786,
      "isInternetEnabled": false,
      "language": "python",
      "sourceType": "notebook",
      "isGpuEnabled": false
    },
    "colab": {
      "name": "Notebook de Arranue MLP",
      "provenance": [],
      "include_colab_link": true
    }
  },
  "nbformat_minor": 0,
  "nbformat": 4,
  "cells": [
    {
      "cell_type": "markdown",
      "metadata": {
        "id": "view-in-github",
        "colab_type": "text"
      },
      "source": [
        "<a href=\"https://colab.research.google.com/github/calvin-greene/Redes-Neuronales/blob/master/Notebook_de_Arranue_MLP.ipynb\" target=\"_parent\"><img src=\"https://colab.research.google.com/assets/colab-badge.svg\" alt=\"Open In Colab\"/></a>"
      ]
    },
    {
      "source": [
        "# IMPORTANT: SOME KAGGLE DATA SOURCES ARE PRIVATE\n",
        "# RUN THIS CELL IN ORDER TO IMPORT YOUR KAGGLE DATA SOURCES.\n",
        "import kagglehub\n",
        "kagglehub.login()\n"
      ],
      "metadata": {
        "id": "f3WVXcR_lcl9"
      },
      "cell_type": "code",
      "outputs": [],
      "execution_count": null
    },
    {
      "source": [
        "# IMPORTANT: RUN THIS CELL IN ORDER TO IMPORT YOUR KAGGLE DATA SOURCES,\n",
        "# THEN FEEL FREE TO DELETE THIS CELL.\n",
        "# NOTE: THIS NOTEBOOK ENVIRONMENT DIFFERS FROM KAGGLE'S PYTHON\n",
        "# ENVIRONMENT SO THERE MAY BE MISSING LIBRARIES USED BY YOUR\n",
        "# NOTEBOOK.\n",
        "\n",
        "dl_itba_cifar_100_2024_q_1_path = kagglehub.competition_download('dl-itba-cifar-100-2024-q-1')\n",
        "\n",
        "print('Data source import complete.')\n"
      ],
      "metadata": {
        "id": "-gObdfrqlcmH"
      },
      "cell_type": "code",
      "outputs": [],
      "execution_count": null
    },
    {
      "cell_type": "code",
      "source": [
        "# This Python 3 environment comes with many helpful analytics libraries installed\n",
        "# It is defined by the kaggle/python Docker image: https://github.com/kaggle/docker-python\n",
        "# For example, here's several helpful packages to load\n",
        "\n",
        "import numpy as np # linear algebra\n",
        "import pandas as pd # data processing, CSV file I/O (e.g. pd.read_csv)\n",
        "\n",
        "# Input data files are available in the read-only \"../input/\" directory\n",
        "# For example, running this (by clicking run or pressing Shift+Enter) will list all files under the input directory\n",
        "\n",
        "import os\n",
        "for dirname, _, filenames in os.walk('/kaggle/input'):\n",
        "    for filename in filenames:\n",
        "        print(os.path.join(dirname, filename))\n",
        "\n",
        "# You can write up to 20GB to the current directory (/kaggle/working/) that gets preserved as output when you create a version using \"Save & Run All\"\n",
        "# You can also write temporary files to /kaggle/temp/, but they won't be saved outside of the current session"
      ],
      "metadata": {
        "_uuid": "8f2839f25d086af736a60e9eeb907d3b93b6e0e5",
        "_cell_guid": "b1076dfc-b9ad-4769-8c92-a6c4dae69d19",
        "execution": {
          "iopub.status.busy": "2024-10-28T02:13:04.229458Z",
          "iopub.execute_input": "2024-10-28T02:13:04.230143Z",
          "iopub.status.idle": "2024-10-28T02:13:04.242364Z",
          "shell.execute_reply.started": "2024-10-28T02:13:04.230093Z",
          "shell.execute_reply": "2024-10-28T02:13:04.240076Z"
        },
        "trusted": true,
        "id": "7f_4wuI8lcmK"
      },
      "execution_count": null,
      "outputs": []
    },
    {
      "cell_type": "code",
      "source": [
        "x_train = np.load(\"/kaggle/input/dl-itba-cifar-100-2024-q-1/x_train.npy\")/255.\n",
        "x_test = np.load(\"/kaggle/input/dl-itba-cifar-100-2024-q-1/x_test.npy\")/255.\n",
        "y_train_coarse = np.load(\"/kaggle/input/dl-itba-cifar-100-2024-q-1/y_train_coarse.npy\")\n",
        "y_train_fine = np.load(\"/kaggle/input/dl-itba-cifar-100-2024-q-1/y_train_fine.npy\")"
      ],
      "metadata": {
        "execution": {
          "iopub.status.busy": "2024-10-28T02:13:04.251856Z",
          "iopub.execute_input": "2024-10-28T02:13:04.252299Z",
          "iopub.status.idle": "2024-10-28T02:13:06.475051Z",
          "shell.execute_reply.started": "2024-10-28T02:13:04.252257Z",
          "shell.execute_reply": "2024-10-28T02:13:06.473649Z"
        },
        "trusted": true,
        "id": "DK6VDtGBlcmM"
      },
      "execution_count": null,
      "outputs": []
    },
    {
      "cell_type": "code",
      "source": [
        "from sklearn.model_selection import train_test_split"
      ],
      "metadata": {
        "execution": {
          "iopub.status.busy": "2024-10-28T02:13:06.47774Z",
          "iopub.execute_input": "2024-10-28T02:13:06.478281Z",
          "iopub.status.idle": "2024-10-28T02:13:07.442902Z",
          "shell.execute_reply.started": "2024-10-28T02:13:06.478227Z",
          "shell.execute_reply": "2024-10-28T02:13:07.441127Z"
        },
        "trusted": true,
        "id": "C0EWruOIlcmO"
      },
      "execution_count": null,
      "outputs": []
    },
    {
      "cell_type": "code",
      "source": [
        "import pickle\n",
        "with open(\"/kaggle/input/dl-itba-cifar-100-2024-q-1/fine_label_names.pck\", \"rb\") as f:\n",
        "    labels_fine = pickle.load(f)\n",
        "with open(\"/kaggle/input/dl-itba-cifar-100-2024-q-1/coarse_label_names.pck\", \"rb\") as f:\n",
        "    labels_coarse = pickle.load(f)"
      ],
      "metadata": {
        "execution": {
          "iopub.status.busy": "2024-10-28T02:13:07.445381Z",
          "iopub.execute_input": "2024-10-28T02:13:07.446261Z",
          "iopub.status.idle": "2024-10-28T02:13:07.464673Z",
          "shell.execute_reply.started": "2024-10-28T02:13:07.44621Z",
          "shell.execute_reply": "2024-10-28T02:13:07.463464Z"
        },
        "trusted": true,
        "id": "M51dMkhBlcmP"
      },
      "execution_count": null,
      "outputs": []
    },
    {
      "cell_type": "code",
      "source": [
        "x_train,x_val, y_train, y_val = train_test_split(x_train, y_train_fine, test_size=0.1, stratify=y_train_fine)"
      ],
      "metadata": {
        "execution": {
          "iopub.status.busy": "2024-10-28T02:13:07.466712Z",
          "iopub.execute_input": "2024-10-28T02:13:07.467882Z",
          "iopub.status.idle": "2024-10-28T02:13:08.144355Z",
          "shell.execute_reply.started": "2024-10-28T02:13:07.467825Z",
          "shell.execute_reply": "2024-10-28T02:13:08.142992Z"
        },
        "trusted": true,
        "id": "bZ735KRelcmQ"
      },
      "execution_count": null,
      "outputs": []
    },
    {
      "cell_type": "code",
      "source": [
        "from matplotlib import pyplot as plt\n",
        "%load_ext tensorboard"
      ],
      "metadata": {
        "execution": {
          "iopub.status.busy": "2024-10-28T02:13:08.14836Z",
          "iopub.execute_input": "2024-10-28T02:13:08.148947Z",
          "iopub.status.idle": "2024-10-28T02:13:08.182203Z",
          "shell.execute_reply.started": "2024-10-28T02:13:08.148898Z",
          "shell.execute_reply": "2024-10-28T02:13:08.180893Z"
        },
        "trusted": true,
        "id": "jQe6nhHAlcmS"
      },
      "execution_count": null,
      "outputs": []
    },
    {
      "cell_type": "code",
      "source": [
        "x_train_bis = x_train[:,:,::-1,:]\n",
        "plt.figure(figsize=(1,1))\n",
        "plt.imshow(x_train_bis[2])"
      ],
      "metadata": {
        "execution": {
          "iopub.status.busy": "2024-10-28T02:13:08.183929Z",
          "iopub.execute_input": "2024-10-28T02:13:08.184297Z",
          "iopub.status.idle": "2024-10-28T02:13:08.414736Z",
          "shell.execute_reply.started": "2024-10-28T02:13:08.184257Z",
          "shell.execute_reply": "2024-10-28T02:13:08.41349Z"
        },
        "trusted": true,
        "id": "V0g93bC8lcmT"
      },
      "execution_count": null,
      "outputs": []
    },
    {
      "cell_type": "code",
      "source": [
        "print(y_train[2])"
      ],
      "metadata": {
        "execution": {
          "iopub.status.busy": "2024-10-28T02:13:08.415965Z",
          "iopub.execute_input": "2024-10-28T02:13:08.416315Z",
          "iopub.status.idle": "2024-10-28T02:13:08.423047Z",
          "shell.execute_reply.started": "2024-10-28T02:13:08.41628Z",
          "shell.execute_reply": "2024-10-28T02:13:08.421444Z"
        },
        "trusted": true,
        "id": "XdKCCsO2lcmV"
      },
      "execution_count": null,
      "outputs": []
    },
    {
      "cell_type": "code",
      "source": [
        "labels_fine[50]"
      ],
      "metadata": {
        "execution": {
          "iopub.status.busy": "2024-10-28T02:13:08.424709Z",
          "iopub.execute_input": "2024-10-28T02:13:08.425209Z",
          "iopub.status.idle": "2024-10-28T02:13:08.437918Z",
          "shell.execute_reply.started": "2024-10-28T02:13:08.425159Z",
          "shell.execute_reply": "2024-10-28T02:13:08.436456Z"
        },
        "trusted": true,
        "id": "PS5C9mgtlcmV"
      },
      "execution_count": null,
      "outputs": []
    },
    {
      "cell_type": "code",
      "source": [
        "x_train_dup = np.concatenate([x_train, x_train_bis],axis=0)\n",
        "y_train_dup = np.concatenate([y_train, y_train], axis=0)\n",
        "x_train_bis = x_train_dup.copy()\n",
        "x_train_bis_bis = x_train_dup.copy()\n",
        "x_train_bis[:,:,1:,:] =x_train_dup[:,:,:-1,:]\n",
        "x_train_bis_bis[:,:,:-1,:] =x_train_dup[:,:,1:,:]\n",
        "x_train_dup = np.concatenate([x_train_dup, x_train_bis, x_train_bis_bis],axis=0)\n",
        "y_train_dup = np.concatenate([y_train_dup, y_train_dup, y_train_dup], axis=0)\n"
      ],
      "metadata": {
        "execution": {
          "iopub.status.busy": "2024-10-28T02:13:08.439631Z",
          "iopub.execute_input": "2024-10-28T02:13:08.440153Z",
          "iopub.status.idle": "2024-10-28T02:13:17.119227Z",
          "shell.execute_reply.started": "2024-10-28T02:13:08.4401Z",
          "shell.execute_reply": "2024-10-28T02:13:17.117894Z"
        },
        "trusted": true,
        "id": "ZfgJw8t8lcmY"
      },
      "execution_count": null,
      "outputs": []
    },
    {
      "cell_type": "code",
      "source": [
        "x_train_dup.shape, y_train_dup.shape"
      ],
      "metadata": {
        "execution": {
          "iopub.status.busy": "2024-10-28T02:13:17.120856Z",
          "iopub.execute_input": "2024-10-28T02:13:17.121237Z",
          "iopub.status.idle": "2024-10-28T02:13:17.13017Z",
          "shell.execute_reply.started": "2024-10-28T02:13:17.121199Z",
          "shell.execute_reply": "2024-10-28T02:13:17.128142Z"
        },
        "trusted": true,
        "id": "VCmj20CDlcmZ"
      },
      "execution_count": null,
      "outputs": []
    },
    {
      "cell_type": "code",
      "source": [
        "# Me fijo para una categoría de grano grueso, cuáles son las categorías de grano fino\n",
        "coarse = 10\n",
        "print(f\"Grano grueso: {labels_coarse[coarse]}\")\n",
        "for fine in np.unique(y_train_fine[y_train_coarse == coarse]):\n",
        "    print(f\"Grano fino: {labels_fine[fine]}\")"
      ],
      "metadata": {
        "execution": {
          "iopub.status.busy": "2024-10-28T02:13:17.131654Z",
          "iopub.execute_input": "2024-10-28T02:13:17.132097Z",
          "iopub.status.idle": "2024-10-28T02:13:17.148446Z",
          "shell.execute_reply.started": "2024-10-28T02:13:17.132055Z",
          "shell.execute_reply": "2024-10-28T02:13:17.146596Z"
        },
        "trusted": true,
        "id": "rHnmLiUZlcma"
      },
      "execution_count": null,
      "outputs": []
    },
    {
      "cell_type": "code",
      "source": [
        "from tensorflow.keras.models import Sequential, Model\n",
        "from tensorflow.keras.layers import Dense, Dropout, BatchNormalization, Flatten, Conv2D, MaxPool2D, GlobalAveragePooling2D, Activation\n",
        "from tensorflow.keras.optimizers import SGD, Adam, RMSprop\n",
        "from tensorflow.keras.regularizers import l1, l2\n",
        "from tensorflow.keras.constraints import MaxNorm\n",
        "from tensorflow.keras.callbacks import ReduceLROnPlateau, EarlyStopping, ModelCheckpoint, TensorBoard\n",
        "from tensorflow.keras.preprocessing.image import ImageDataGenerator"
      ],
      "metadata": {
        "execution": {
          "iopub.status.busy": "2024-10-28T02:13:17.150456Z",
          "iopub.execute_input": "2024-10-28T02:13:17.150965Z",
          "iopub.status.idle": "2024-10-28T02:13:17.178543Z",
          "shell.execute_reply.started": "2024-10-28T02:13:17.150923Z",
          "shell.execute_reply": "2024-10-28T02:13:17.177252Z"
        },
        "trusted": true,
        "id": "sPqKhsQ4lcma"
      },
      "execution_count": null,
      "outputs": []
    },
    {
      "cell_type": "code",
      "source": [
        "\n",
        "model = Sequential([\n",
        "    Conv2D(32, (3, 3), activation='relu', input_shape=input_shape),\n",
        "    MaxPool2D((2, 2)),\n",
        "    Conv2D(64, (3, 3), activation='relu'),\n",
        "    MaxPool2D((2, 2)),\n",
        "    Conv2D(128, (3, 3), activation='relu'),\n",
        "    GlobalAveragePooling2D(),\n",
        "    Dense(num_classes, activation='softmax')\n",
        "])\n",
        "model.compile(optimizer='adam', loss='sparse_categorical_crossentropy', metrics=['accuracy'])\n",
        "\n",
        "\n",
        "\n",
        "\n",
        "'''\n",
        "model = Sequential()\n",
        "model.add(Flatten(input_shape=(32,32,3)))\n",
        "#model.add(Dense(10000, activation=\"relu\"))\n",
        "model.add(Dense(100, activation=\"softmax\"))\n",
        "model.compile(loss=\"sparse_categorical_crossentropy\", metrics = [\"accuracy\"], optimizer = Adam(learning_rate=0.001))\n",
        "'''"
      ],
      "metadata": {
        "execution": {
          "iopub.status.busy": "2024-10-28T02:13:17.180996Z",
          "iopub.execute_input": "2024-10-28T02:13:17.181378Z",
          "iopub.status.idle": "2024-10-28T02:13:17.263772Z",
          "shell.execute_reply.started": "2024-10-28T02:13:17.18134Z",
          "shell.execute_reply": "2024-10-28T02:13:17.261371Z"
        },
        "trusted": true,
        "id": "QkxmVXJFlcmb"
      },
      "execution_count": null,
      "outputs": []
    },
    {
      "cell_type": "code",
      "source": [
        "model.summary()"
      ],
      "metadata": {
        "execution": {
          "iopub.status.busy": "2024-10-28T02:13:17.268558Z",
          "iopub.execute_input": "2024-10-28T02:13:17.26903Z",
          "iopub.status.idle": "2024-10-28T02:13:17.307437Z",
          "shell.execute_reply.started": "2024-10-28T02:13:17.268985Z",
          "shell.execute_reply": "2024-10-28T02:13:17.30606Z"
        },
        "trusted": true,
        "id": "-Q7onkhVlcmb"
      },
      "execution_count": null,
      "outputs": []
    },
    {
      "cell_type": "code",
      "source": [
        "rlrop = ReduceLROnPlateau(\n",
        "    monitor = \"val_accuracy\",\n",
        "    factor = 0.5,\n",
        "    patience = 3,\n",
        "    verbose = 1,\n",
        "    min_lr = 1e-5\n",
        ")"
      ],
      "metadata": {
        "execution": {
          "iopub.status.busy": "2024-10-28T02:13:17.309105Z",
          "iopub.execute_input": "2024-10-28T02:13:17.309632Z",
          "iopub.status.idle": "2024-10-28T02:13:17.317335Z",
          "shell.execute_reply.started": "2024-10-28T02:13:17.309579Z",
          "shell.execute_reply": "2024-10-28T02:13:17.315689Z"
        },
        "trusted": true,
        "id": "hpD8BPfllcmc"
      },
      "execution_count": null,
      "outputs": []
    },
    {
      "cell_type": "code",
      "source": [
        "mc = ModelCheckpoint(\n",
        "    \"best_weights.weights.h5\",\n",
        "    monitor = \"val_accuracy\",\n",
        "    verbose = 1,\n",
        "    save_best_only = True,\n",
        "    save_weights_only = True,\n",
        ")"
      ],
      "metadata": {
        "execution": {
          "iopub.status.busy": "2024-10-28T02:13:17.318898Z",
          "iopub.execute_input": "2024-10-28T02:13:17.319409Z",
          "iopub.status.idle": "2024-10-28T02:13:17.333207Z",
          "shell.execute_reply.started": "2024-10-28T02:13:17.319353Z",
          "shell.execute_reply": "2024-10-28T02:13:17.331268Z"
        },
        "trusted": true,
        "id": "vFa5Z_4Blcmc"
      },
      "execution_count": null,
      "outputs": []
    },
    {
      "cell_type": "code",
      "source": [
        "es = EarlyStopping(\n",
        "    monitor = \"val_accuracy\",\n",
        "    patience = 10,\n",
        "    verbose = 1,\n",
        "    restore_best_weights = True,\n",
        ")"
      ],
      "metadata": {
        "execution": {
          "iopub.status.busy": "2024-10-28T02:13:17.334836Z",
          "iopub.execute_input": "2024-10-28T02:13:17.335334Z",
          "iopub.status.idle": "2024-10-28T02:13:17.349657Z",
          "shell.execute_reply.started": "2024-10-28T02:13:17.33528Z",
          "shell.execute_reply": "2024-10-28T02:13:17.347816Z"
        },
        "trusted": true,
        "id": "MwmRU5uDlcmd"
      },
      "execution_count": null,
      "outputs": []
    },
    {
      "cell_type": "code",
      "source": [
        "tb = TensorBoard(\n",
        "    log_dir=\"logs\",\n",
        ")"
      ],
      "metadata": {
        "execution": {
          "iopub.status.busy": "2024-10-28T02:13:17.355164Z",
          "iopub.execute_input": "2024-10-28T02:13:17.355636Z",
          "iopub.status.idle": "2024-10-28T02:13:17.363235Z",
          "shell.execute_reply.started": "2024-10-28T02:13:17.355592Z",
          "shell.execute_reply": "2024-10-28T02:13:17.361971Z"
        },
        "trusted": true,
        "id": "aucW70e3lcmd"
      },
      "execution_count": null,
      "outputs": []
    },
    {
      "cell_type": "code",
      "source": [
        "indexes = list(range(len(x_train_dup)))\n",
        "np.random.shuffle(indexes)\n",
        "x_train_dup = x_train_dup[indexes]\n",
        "y_train_dup = y_train_dup[indexes]\n"
      ],
      "metadata": {
        "execution": {
          "iopub.status.busy": "2024-10-28T02:13:17.364983Z",
          "iopub.execute_input": "2024-10-28T02:13:17.365398Z",
          "iopub.status.idle": "2024-10-28T02:13:20.520051Z",
          "shell.execute_reply.started": "2024-10-28T02:13:17.365358Z",
          "shell.execute_reply": "2024-10-28T02:13:20.518882Z"
        },
        "trusted": true,
        "id": "Osg8tZCalcmd"
      },
      "execution_count": null,
      "outputs": []
    },
    {
      "cell_type": "code",
      "source": [
        "'''\n",
        "datagen = ImageDataGenerator(\n",
        "    rotation_range=15,\n",
        "    width_shift_range=0.1,\n",
        "    height_shift_range=0.1,\n",
        "    horizontal_flip=True\n",
        ")\n",
        "datagen.fit(x_train)\n",
        "\n",
        "batch_size = 32\n",
        "epochs = 10\n",
        "\n",
        "history = model.fit(\n",
        "    datagen.flow(x_train, y_train, batch_size=batch_size),\n",
        "    epochs=epochs,\n",
        "    validation_data=(x_val, y_val),\n",
        "    callbacks=[rlrop, es, mc]\n",
        ")\n",
        "'''\n",
        "history = model.fit(\n",
        "    x = x_train,\n",
        "    y= y_train,\n",
        "    batch_size=32,\n",
        "    epochs=50,\n",
        "    validation_data = (x_val, y_val),\n",
        "    callbacks= [\n",
        "        rlrop,\n",
        "        es,\n",
        "        mc\n",
        "    ]\n",
        ")\n"
      ],
      "metadata": {
        "execution": {
          "iopub.status.busy": "2024-10-28T02:13:20.521517Z",
          "iopub.execute_input": "2024-10-28T02:13:20.522037Z",
          "iopub.status.idle": "2024-10-28T02:57:07.778335Z",
          "shell.execute_reply.started": "2024-10-28T02:13:20.52199Z",
          "shell.execute_reply": "2024-10-28T02:57:07.776742Z"
        },
        "trusted": true,
        "id": "n7hXzll8lcme"
      },
      "execution_count": null,
      "outputs": []
    },
    {
      "cell_type": "code",
      "source": [
        "!mkdir logs"
      ],
      "metadata": {
        "execution": {
          "iopub.status.busy": "2024-10-28T02:57:07.780022Z",
          "iopub.execute_input": "2024-10-28T02:57:07.780438Z",
          "iopub.status.idle": "2024-10-28T02:57:08.941279Z",
          "shell.execute_reply.started": "2024-10-28T02:57:07.780392Z",
          "shell.execute_reply": "2024-10-28T02:57:08.939509Z"
        },
        "trusted": true,
        "id": "9VUwJssMlcme"
      },
      "execution_count": null,
      "outputs": []
    },
    {
      "cell_type": "code",
      "source": [
        "plt.plot(history.history[\"loss\"])\n",
        "plt.plot(history.history[\"val_loss\"])"
      ],
      "metadata": {
        "execution": {
          "iopub.status.busy": "2024-10-28T02:57:08.94409Z",
          "iopub.execute_input": "2024-10-28T02:57:08.944766Z",
          "iopub.status.idle": "2024-10-28T02:57:09.253796Z",
          "shell.execute_reply.started": "2024-10-28T02:57:08.944704Z",
          "shell.execute_reply": "2024-10-28T02:57:09.252183Z"
        },
        "trusted": true,
        "id": "iYE8v_5zlcme"
      },
      "execution_count": null,
      "outputs": []
    },
    {
      "cell_type": "code",
      "source": [
        "plt.plot(history.history[\"accuracy\"])\n",
        "plt.plot(history.history[\"val_accuracy\"])"
      ],
      "metadata": {
        "execution": {
          "iopub.status.busy": "2024-10-28T02:57:09.255582Z",
          "iopub.execute_input": "2024-10-28T02:57:09.256006Z",
          "iopub.status.idle": "2024-10-28T02:57:09.522621Z",
          "shell.execute_reply.started": "2024-10-28T02:57:09.255964Z",
          "shell.execute_reply": "2024-10-28T02:57:09.521126Z"
        },
        "trusted": true,
        "id": "OfOFTUMflcmf"
      },
      "execution_count": null,
      "outputs": []
    },
    {
      "cell_type": "code",
      "source": [
        "%tensorboard --logdir logs"
      ],
      "metadata": {
        "execution": {
          "iopub.status.busy": "2024-10-28T02:57:09.524373Z",
          "iopub.execute_input": "2024-10-28T02:57:09.525346Z",
          "iopub.status.idle": "2024-10-28T02:57:17.553873Z",
          "shell.execute_reply.started": "2024-10-28T02:57:09.525292Z",
          "shell.execute_reply": "2024-10-28T02:57:17.552327Z"
        },
        "trusted": true,
        "id": "9Hwo_MRwlcmf"
      },
      "execution_count": null,
      "outputs": []
    },
    {
      "cell_type": "code",
      "source": [
        "model.load_weights(\"best_weights.weights.h5\")\n",
        "predictions = model.predict(x_test).argmax(axis=1)\n",
        "'''\n",
        "df = pd.DataFrame({\n",
        "    'Image': [f'test/{i}.png' for i in range(len(predictions))],\n",
        "    'label': predictions\n",
        "})\n",
        "'''"
      ],
      "metadata": {
        "execution": {
          "iopub.status.busy": "2024-10-28T03:08:50.292074Z",
          "iopub.execute_input": "2024-10-28T03:08:50.293185Z",
          "iopub.status.idle": "2024-10-28T03:08:54.419116Z",
          "shell.execute_reply.started": "2024-10-28T03:08:50.293136Z",
          "shell.execute_reply": "2024-10-28T03:08:54.417732Z"
        },
        "trusted": true,
        "id": "kE86_wZWlcmf"
      },
      "execution_count": null,
      "outputs": []
    },
    {
      "cell_type": "code",
      "source": [
        "df = pd.DataFrame(predictions, columns=[\"Label\"])"
      ],
      "metadata": {
        "execution": {
          "iopub.status.busy": "2024-10-28T02:57:17.859849Z",
          "iopub.status.idle": "2024-10-28T02:57:17.860306Z",
          "shell.execute_reply.started": "2024-10-28T02:57:17.860098Z",
          "shell.execute_reply": "2024-10-28T02:57:17.86012Z"
        },
        "trusted": true,
        "id": "9VMF8hkZlcmg"
      },
      "execution_count": null,
      "outputs": []
    },
    {
      "cell_type": "code",
      "source": [
        "df"
      ],
      "metadata": {
        "execution": {
          "iopub.status.busy": "2024-10-28T02:57:17.862626Z",
          "iopub.status.idle": "2024-10-28T02:57:17.863161Z",
          "shell.execute_reply.started": "2024-10-28T02:57:17.862892Z",
          "shell.execute_reply": "2024-10-28T02:57:17.86292Z"
        },
        "trusted": true,
        "id": "TGp1ZlnClcmg"
      },
      "execution_count": null,
      "outputs": []
    },
    {
      "cell_type": "code",
      "source": [
        "df.index.name = \"Id\""
      ],
      "metadata": {
        "execution": {
          "iopub.status.busy": "2024-10-28T02:57:17.865323Z",
          "iopub.status.idle": "2024-10-28T02:57:17.865903Z",
          "shell.execute_reply.started": "2024-10-28T02:57:17.865598Z",
          "shell.execute_reply": "2024-10-28T02:57:17.865622Z"
        },
        "trusted": true,
        "id": "uvbJ-V71lcmh"
      },
      "execution_count": null,
      "outputs": []
    },
    {
      "cell_type": "code",
      "source": [
        "df.to_csv(\"submission.csv\")"
      ],
      "metadata": {
        "execution": {
          "iopub.status.busy": "2024-10-28T03:09:10.342502Z",
          "iopub.execute_input": "2024-10-28T03:09:10.342974Z",
          "iopub.status.idle": "2024-10-28T03:09:10.362961Z",
          "shell.execute_reply.started": "2024-10-28T03:09:10.342932Z",
          "shell.execute_reply": "2024-10-28T03:09:10.361559Z"
        },
        "trusted": true,
        "id": "zezNk4Yqlcmi"
      },
      "execution_count": null,
      "outputs": []
    },
    {
      "cell_type": "code",
      "source": [
        "print(df)\n"
      ],
      "metadata": {
        "execution": {
          "iopub.status.busy": "2024-10-28T03:10:01.918198Z",
          "iopub.execute_input": "2024-10-28T03:10:01.919401Z",
          "iopub.status.idle": "2024-10-28T03:10:01.946063Z",
          "shell.execute_reply.started": "2024-10-28T03:10:01.919329Z",
          "shell.execute_reply": "2024-10-28T03:10:01.944046Z"
        },
        "trusted": true,
        "id": "vlbdbko5lcmi"
      },
      "execution_count": null,
      "outputs": []
    }
  ]
}
